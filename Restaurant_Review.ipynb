{
  "nbformat": 4,
  "nbformat_minor": 0,
  "metadata": {
    "colab": {
      "name": "Restaurant_Review.ipynb",
      "provenance": [],
      "mount_file_id": "1NB4YwIhbzwWnzqxadxbf-3xq4Y1PKh75",
      "authorship_tag": "ABX9TyN5/vNYAnCG6ZUVHgqvP1/J",
      "include_colab_link": true
    },
    "kernelspec": {
      "name": "python3",
      "display_name": "Python 3"
    },
    "language_info": {
      "name": "python"
    }
  },
  "cells": [
    {
      "cell_type": "markdown",
      "metadata": {
        "id": "view-in-github",
        "colab_type": "text"
      },
      "source": [
        "<a href=\"https://colab.research.google.com/github/ph4nt0mgui1d/DL_Projects/blob/main/Restaurant_Review.ipynb\" target=\"_parent\"><img src=\"https://colab.research.google.com/assets/colab-badge.svg\" alt=\"Open In Colab\"/></a>"
      ]
    },
    {
      "cell_type": "code",
      "metadata": {
        "id": "A3wl4vu_HmrW"
      },
      "source": [
        "import pandas as pd\n",
        "df = pd.read_csv('/content/drive/MyDrive/Colab Notebooks/Restaurant_Reviews.tsv', sep = '\\t')\n",
        "\n",
        "features = df.iloc[:,0]\n",
        "labels = df.iloc[:,1]\n",
        "\n",
        "from sklearn.model_selection import train_test_split as tts\n",
        "features_train, features_test, labels_train, labels_test = tts(features, labels, test_size = 0.2, random_state = 42)\n",
        "\n",
        "from sklearn.feature_extraction.text import TfidfVectorizer\n",
        "vect = TfidfVectorizer(min_df = 5)\n",
        "features_train_vect = vect.fit_transform(features_train)\n",
        "features_train_vect = features_train_vect.toarray()\n"
      ],
      "execution_count": null,
      "outputs": []
    },
    {
      "cell_type": "code",
      "metadata": {
        "colab": {
          "base_uri": "https://localhost:8080/"
        },
        "id": "WVrJL99cHgNl",
        "outputId": "4bf1e9d7-0e72-4e0e-af33-785e634dff4d"
      },
      "source": [
        "features_train_vect.shape\n"
      ],
      "execution_count": null,
      "outputs": [
        {
          "output_type": "execute_result",
          "data": {
            "text/plain": [
              "(800, 292)"
            ]
          },
          "metadata": {},
          "execution_count": 11
        }
      ]
    },
    {
      "cell_type": "code",
      "metadata": {
        "id": "X5i91-6dI6O8",
        "colab": {
          "base_uri": "https://localhost:8080/"
        },
        "outputId": "05cf2ca7-854c-4d87-8349-124826951dee"
      },
      "source": [
        "import keras\n",
        "from keras.models import Sequential\n",
        "from keras.layers.core import Dense, Dropout, Activation\n",
        "\n",
        "model = Sequential()\n",
        "\n",
        "model.add(Dense(200,input_shape = (292,)))\n",
        "model.add(Activation('relu'))\n",
        "model.add(Dropout(0.5))\n",
        "\n",
        "model.add(Dense(100))\n",
        "model.add(Activation('relu'))\n",
        "model.add(Dropout(0.5))\n",
        "\n",
        "model.add(Dense(50, activation = 'relu'))\n",
        "model.add(Dropout(0.5))\n",
        "\n",
        "model.add(Dense(1, activation = 'sigmoid'))\n",
        "\n",
        "model.compile(loss = 'binary_crossentropy', optimizer = 'adam')\n",
        "\n",
        "model.fit(features_train_vect, labels_train, batch_size = 32, epochs = 10)\n"
      ],
      "execution_count": null,
      "outputs": [
        {
          "output_type": "stream",
          "name": "stdout",
          "text": [
            "Epoch 1/10\n",
            "25/25 [==============================] - 1s 3ms/step - loss: 0.6917\n",
            "Epoch 2/10\n",
            "25/25 [==============================] - 0s 3ms/step - loss: 0.6879\n",
            "Epoch 3/10\n",
            "25/25 [==============================] - 0s 3ms/step - loss: 0.6806\n",
            "Epoch 4/10\n",
            "25/25 [==============================] - 0s 3ms/step - loss: 0.6645\n",
            "Epoch 5/10\n",
            "25/25 [==============================] - 0s 3ms/step - loss: 0.5980\n",
            "Epoch 6/10\n",
            "25/25 [==============================] - 0s 3ms/step - loss: 0.5112\n",
            "Epoch 7/10\n",
            "25/25 [==============================] - 0s 3ms/step - loss: 0.4048\n",
            "Epoch 8/10\n",
            "25/25 [==============================] - 0s 3ms/step - loss: 0.3592\n",
            "Epoch 9/10\n",
            "25/25 [==============================] - 0s 3ms/step - loss: 0.2877\n",
            "Epoch 10/10\n",
            "25/25 [==============================] - 0s 3ms/step - loss: 0.2384\n"
          ]
        },
        {
          "output_type": "execute_result",
          "data": {
            "text/plain": [
              "<keras.callbacks.History at 0x7f2c374f40d0>"
            ]
          },
          "metadata": {},
          "execution_count": 12
        }
      ]
    },
    {
      "cell_type": "code",
      "metadata": {
        "id": "LSGMb67pLzBh"
      },
      "source": [
        "features_test_vect = vect.transform(features_test)\n",
        "labels_pred = model.predict(features_test_vect.toarray(), batch_size = 64)\n"
      ],
      "execution_count": null,
      "outputs": []
    },
    {
      "cell_type": "code",
      "metadata": {
        "colab": {
          "base_uri": "https://localhost:8080/"
        },
        "id": "4bEtKXXcNFs1",
        "outputId": "85b48728-a27d-45cf-8781-926c05d0ae2a"
      },
      "source": [
        "import numpy as np\n",
        "labels_pred = np.argmax(labels_pred, axis = 1)\n",
        "from sklearn.metrics import confusion_matrix\n",
        "cm = confusion_matrix(labels_test, labels_pred)\n",
        "cm"
      ],
      "execution_count": null,
      "outputs": [
        {
          "output_type": "execute_result",
          "data": {
            "text/plain": [
              "array([[ 96,   0],\n",
              "       [104,   0]])"
            ]
          },
          "metadata": {},
          "execution_count": 21
        }
      ]
    },
    {
      "cell_type": "code",
      "metadata": {
        "id": "gVQEKBKeQ6dw"
      },
      "source": [
        "rev = [\"it is not that i don't like this resturant\"]\n",
        "rev_vect = vect.transform(rev)\n",
        "rev_vect = rev_vect.toarray()"
      ],
      "execution_count": null,
      "outputs": []
    },
    {
      "cell_type": "code",
      "metadata": {
        "colab": {
          "base_uri": "https://localhost:8080/"
        },
        "id": "GjlQ9DrbRFP4",
        "outputId": "1d5dd606-fbd0-47be-e749-4b0f820283ee"
      },
      "source": [
        "rev_pred = model.predict(rev_vect)\n",
        "\n",
        "rev_pred = np.argmax(rev_pred, axis = 1)\n",
        "rev_pred"
      ],
      "execution_count": null,
      "outputs": [
        {
          "output_type": "execute_result",
          "data": {
            "text/plain": [
              "array([0])"
            ]
          },
          "metadata": {},
          "execution_count": 29
        }
      ]
    }
  ]
}