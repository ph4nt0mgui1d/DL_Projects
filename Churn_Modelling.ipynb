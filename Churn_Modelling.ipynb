{
  "nbformat": 4,
  "nbformat_minor": 0,
  "metadata": {
    "colab": {
      "name": "Churn_Modelling.ipynb",
      "provenance": [],
      "collapsed_sections": [],
      "mount_file_id": "1zVWzG5yYR5w8MfOPjjyumDtzqBuoPfEA",
      "authorship_tag": "ABX9TyNSggrxw372orubB6DTD4OL",
      "include_colab_link": true
    },
    "kernelspec": {
      "name": "python3",
      "display_name": "Python 3"
    },
    "language_info": {
      "name": "python"
    }
  },
  "cells": [
    {
      "cell_type": "markdown",
      "metadata": {
        "id": "view-in-github",
        "colab_type": "text"
      },
      "source": [
        "<a href=\"https://colab.research.google.com/github/ph4nt0mgui1d/DL_Projects/blob/main/Churn_Modelling.ipynb\" target=\"_parent\"><img src=\"https://colab.research.google.com/assets/colab-badge.svg\" alt=\"Open In Colab\"/></a>"
      ]
    },
    {
      "cell_type": "code",
      "metadata": {
        "id": "dYDJ5yPfQzL7",
        "colab": {
          "base_uri": "https://localhost:8080/"
        },
        "outputId": "5aa4a1fa-49fe-4b16-de74-357892a8e37e"
      },
      "source": [
        "import pandas as pd\n",
        "df = pd.read_csv('/content/drive/MyDrive/Colab Notebooks/Assets/Churn_Modelling.csv')\n",
        "\n",
        "features = df.iloc[:,3:13].values\n",
        "labels = df.iloc[:,13].values\n",
        "\n",
        "from sklearn.preprocessing import OneHotEncoder\n",
        "from sklearn.compose import ColumnTransformer\n",
        "\n",
        "cTransformer = ColumnTransformer([('encoder',OneHotEncoder(),[1,2])],remainder = 'passthrough')\n",
        "\n",
        "import numpy as np\n",
        "features = np.array(cTransformer.fit_transform(features), dtype = np.float32)\n",
        "\n",
        "#dropping dummy column\n",
        "features = features[:,1:]     #dummy column from geography\n",
        "features = features[:, [0,1,3,4,5,6,7,8,9,10,11]]   #dummy column from gender\n",
        "\n",
        "from sklearn.model_selection import train_test_split as tts\n",
        "features_train, features_test, labels_train , labels_test = tts(features, labels, test_size = 0.2, random_state=0)\n",
        "\n",
        "from sklearn.preprocessing import StandardScaler\n",
        "ss = StandardScaler()\n",
        "features_train = ss.fit_transform(features_train)\n",
        "features_test = ss.transform(features_test)\n",
        "\n",
        "import keras\n",
        "from keras.models import Sequential\n",
        "from keras.layers import Dense\n",
        "\n",
        "classifier = Sequential()\n",
        "#first hidden layers\n",
        "classifier.add(Dense(units = 6, activation = 'relu', input_dim = 11))\n",
        "#second hidden layer\n",
        "classifier.add(Dense(units = 6, activation = 'relu'))\n",
        "#o/p layer\n",
        "classifier.add(Dense(units = 1, activation = 'sigmoid'))\n",
        "\n",
        "classifier.compile(optimizer = 'adam', loss = 'binary_crossentropy', metrics = ['accuracy'])\n",
        "classifier.fit(features_train, labels_train, batch_size = 10, epochs = 10)\n",
        "\n"
      ],
      "execution_count": 1,
      "outputs": [
        {
          "output_type": "stream",
          "name": "stdout",
          "text": [
            "Epoch 1/10\n",
            "800/800 [==============================] - 2s 1ms/step - loss: 0.6172 - accuracy: 0.6780\n",
            "Epoch 2/10\n",
            "800/800 [==============================] - 1s 1ms/step - loss: 0.4654 - accuracy: 0.7977\n",
            "Epoch 3/10\n",
            "800/800 [==============================] - 1s 1ms/step - loss: 0.4307 - accuracy: 0.8067\n",
            "Epoch 4/10\n",
            "800/800 [==============================] - 1s 1ms/step - loss: 0.4070 - accuracy: 0.8216\n",
            "Epoch 5/10\n",
            "800/800 [==============================] - 1s 1ms/step - loss: 0.3894 - accuracy: 0.8324\n",
            "Epoch 6/10\n",
            "800/800 [==============================] - 1s 1ms/step - loss: 0.3788 - accuracy: 0.8372\n",
            "Epoch 7/10\n",
            "800/800 [==============================] - 1s 1ms/step - loss: 0.3722 - accuracy: 0.8424\n",
            "Epoch 8/10\n",
            "800/800 [==============================] - 1s 1ms/step - loss: 0.3675 - accuracy: 0.8447\n",
            "Epoch 9/10\n",
            "800/800 [==============================] - 1s 1ms/step - loss: 0.3632 - accuracy: 0.8487\n",
            "Epoch 10/10\n",
            "800/800 [==============================] - 1s 1ms/step - loss: 0.3591 - accuracy: 0.8531\n"
          ]
        },
        {
          "output_type": "execute_result",
          "data": {
            "text/plain": [
              "<keras.callbacks.History at 0x7f0d72dcf9d0>"
            ]
          },
          "metadata": {},
          "execution_count": 1
        }
      ]
    },
    {
      "cell_type": "code",
      "metadata": {
        "id": "2Z6WbNhmA6dL"
      },
      "source": [
        "labels_pred = classifier.predict(features_test)"
      ],
      "execution_count": null,
      "outputs": []
    },
    {
      "cell_type": "code",
      "metadata": {
        "id": "iyolEK9cBQsD"
      },
      "source": [
        "labels_pred\n",
        "import numpy as np\n",
        "labels_pred = np.argmax(labels_pred, axis = 1)"
      ],
      "execution_count": null,
      "outputs": []
    },
    {
      "cell_type": "code",
      "metadata": {
        "colab": {
          "base_uri": "https://localhost:8080/"
        },
        "id": "DQWdE8YABS8G",
        "outputId": "4dd13904-9eb4-4103-ab3f-250b79995e04"
      },
      "source": [
        "\n",
        "from sklearn.metrics import confusion_matrix\n",
        "cm = confusion_matrix(labels_test, labels_pred)\n",
        "\n",
        "cm"
      ],
      "execution_count": null,
      "outputs": [
        {
          "output_type": "execute_result",
          "data": {
            "text/plain": [
              "array([[1595,    0],\n",
              "       [ 405,    0]])"
            ]
          },
          "metadata": {},
          "execution_count": 17
        }
      ]
    },
    {
      "cell_type": "code",
      "metadata": {
        "colab": {
          "base_uri": "https://localhost:8080/"
        },
        "id": "NxupH_bPeaU-",
        "outputId": "e7987d33-1b63-4af0-8436-ecde431adebb"
      },
      "source": [
        "from sklearn.metrics import roc_auc_score\n",
        "roc_auc_score(labels_test, labels_pred)"
      ],
      "execution_count": null,
      "outputs": [
        {
          "output_type": "execute_result",
          "data": {
            "text/plain": [
              "0.5"
            ]
          },
          "metadata": {},
          "execution_count": 18
        }
      ]
    }
  ]
}